{
  "nbformat": 4,
  "nbformat_minor": 0,
  "metadata": {
    "colab": {
      "provenance": [],
      "gpuType": "T4",
      "authorship_tag": "ABX9TyNgl7qqy1CdLl1O853OG4wg",
      "include_colab_link": true
    },
    "kernelspec": {
      "name": "python3",
      "display_name": "Python 3"
    },
    "language_info": {
      "name": "python"
    },
    "accelerator": "GPU"
  },
  "cells": [
    {
      "cell_type": "markdown",
      "metadata": {
        "id": "view-in-github",
        "colab_type": "text"
      },
      "source": [
        "<a href=\"https://colab.research.google.com/github/roberto-dionisio/introPyTorch/blob/main/basic_NN.ipynb\" target=\"_parent\"><img src=\"https://colab.research.google.com/assets/colab-badge.svg\" alt=\"Open In Colab\"/></a>"
      ]
    },
    {
      "cell_type": "markdown",
      "source": [
        "# Neural Network"
      ],
      "metadata": {
        "id": "WhQ2YbfEpwu9"
      }
    },
    {
      "cell_type": "code",
      "source": [
        "import torch\n",
        "import torch.nn as nn\n",
        "import torch.nn.functional as F #move data forward\n",
        "import numpy as np\n",
        "import matplotlib.pyplot as plt\n",
        "import pandas as pd\n",
        "%matplotlib inline"
      ],
      "metadata": {
        "id": "i9kMZyORp3wu"
      },
      "execution_count": null,
      "outputs": []
    },
    {
      "cell_type": "markdown",
      "source": [
        "## Iris classification lol\n",
        "\n",
        "1.   input layer\n",
        "2.   hidden layer(s)\n",
        "3.   output layer\n"
      ],
      "metadata": {
        "id": "BUUKDu4ItdZv"
      }
    },
    {
      "cell_type": "code",
      "source": [
        "class Model(nn.Module):\n",
        "  #input layer has 4 features (of the flower) -> h1 -> h2 -> output (3 classes of flowers)\n",
        "  def __init__(self, in_features=4, h1=8, h2=8, output=3):\n",
        "    super().__init__()\n",
        "    self.fc1 = nn.Linear(in_features, h1) #input layer, fully connected 1, 2 and so on, Linear Model\n",
        "    self.fc2 = nn.Linear(h1, h2) #hidden layer\n",
        "    self.out = nn.Linear(h2, output)\n",
        "\n",
        "  def forward(self, x): #moves everything forward\n",
        "    x = F.relu(self.fc1(x)) #rectified linear unit: less than 0 = 0, =x otherwise\n",
        "    x = F.relu(self.fc2(x))\n",
        "    x = self.out(x)\n",
        "    return x"
      ],
      "metadata": {
        "id": "-h9AtqG6p4C_"
      },
      "execution_count": null,
      "outputs": []
    },
    {
      "cell_type": "code",
      "source": [
        "torch.manual_seed(41)\n",
        "model = Model()\n",
        "\n",
        "#get the dataset\n",
        "url = 'https://gist.githubusercontent.com/netj/8836201/raw/6f9306ad21398ea43cba4f7d537619d0e07d5ae3/iris.csv'\n",
        "my_df = pd.read_csv(url)\n",
        "my_df.head(), my_df.tail()"
      ],
      "metadata": {
        "colab": {
          "base_uri": "https://localhost:8080/"
        },
        "id": "Cx-E7hWOp4a9",
        "outputId": "74e2c0a2-cc52-4dc2-92a5-614a294964dd"
      },
      "execution_count": null,
      "outputs": [
        {
          "output_type": "execute_result",
          "data": {
            "text/plain": [
              "(   sepal.length  sepal.width  petal.length  petal.width variety\n",
              " 0           5.1          3.5           1.4          0.2  Setosa\n",
              " 1           4.9          3.0           1.4          0.2  Setosa\n",
              " 2           4.7          3.2           1.3          0.2  Setosa\n",
              " 3           4.6          3.1           1.5          0.2  Setosa\n",
              " 4           5.0          3.6           1.4          0.2  Setosa,\n",
              "      sepal.length  sepal.width  petal.length  petal.width    variety\n",
              " 145           6.7          3.0           5.2          2.3  Virginica\n",
              " 146           6.3          2.5           5.0          1.9  Virginica\n",
              " 147           6.5          3.0           5.2          2.0  Virginica\n",
              " 148           6.2          3.4           5.4          2.3  Virginica\n",
              " 149           5.9          3.0           5.1          1.8  Virginica)"
            ]
          },
          "metadata": {},
          "execution_count": 31
        }
      ]
    },
    {
      "cell_type": "code",
      "source": [
        "my_df['variety'] = my_df['variety'].replace('Setosa', 0)\n",
        "my_df['variety'] = my_df['variety'].replace('Versicolor', 1)\n",
        "my_df['variety'] = my_df['variety'].replace('Virginica', 2)\n",
        "my_df.head(), my_df.tail()"
      ],
      "metadata": {
        "colab": {
          "base_uri": "https://localhost:8080/"
        },
        "id": "WDhUix9Qp4er",
        "outputId": "c8b4515d-08af-419d-a681-e1a4f7be9585"
      },
      "execution_count": null,
      "outputs": [
        {
          "output_type": "stream",
          "name": "stderr",
          "text": [
            "<ipython-input-5-1db3e5954c54>:3: FutureWarning: Downcasting behavior in `replace` is deprecated and will be removed in a future version. To retain the old behavior, explicitly call `result.infer_objects(copy=False)`. To opt-in to the future behavior, set `pd.set_option('future.no_silent_downcasting', True)`\n",
            "  my_df['variety'] = my_df['variety'].replace('Virginica', 2)\n"
          ]
        },
        {
          "output_type": "execute_result",
          "data": {
            "text/plain": [
              "(   sepal.length  sepal.width  petal.length  petal.width  variety\n",
              " 0           5.1          3.5           1.4          0.2        0\n",
              " 1           4.9          3.0           1.4          0.2        0\n",
              " 2           4.7          3.2           1.3          0.2        0\n",
              " 3           4.6          3.1           1.5          0.2        0\n",
              " 4           5.0          3.6           1.4          0.2        0,\n",
              "      sepal.length  sepal.width  petal.length  petal.width  variety\n",
              " 145           6.7          3.0           5.2          2.3        2\n",
              " 146           6.3          2.5           5.0          1.9        2\n",
              " 147           6.5          3.0           5.2          2.0        2\n",
              " 148           6.2          3.4           5.4          2.3        2\n",
              " 149           5.9          3.0           5.1          1.8        2)"
            ]
          },
          "metadata": {},
          "execution_count": 5
        }
      ]
    },
    {
      "cell_type": "code",
      "source": [
        "# we dont want the output among the input obv\n",
        "X = my_df.drop('variety', axis=1)\n",
        "y = my_df['variety']\n",
        "#convert to np arrays\n",
        "X = X.values\n",
        "y = y.values"
      ],
      "metadata": {
        "id": "Wcyrwspnp4ic"
      },
      "execution_count": null,
      "outputs": []
    },
    {
      "cell_type": "code",
      "source": [
        "from sklearn.model_selection import train_test_split\n",
        "X_train, X_test, y_train, y_test = train_test_split(X, y, test_size=0.2, random_state=41)#test size is gonna be 20% the rest is training"
      ],
      "metadata": {
        "id": "N0uutFNZp4mO"
      },
      "execution_count": null,
      "outputs": []
    },
    {
      "cell_type": "code",
      "source": [
        "X.shape, X_train.shape, X_test.shape, y_train.shape, y_test.shape"
      ],
      "metadata": {
        "colab": {
          "base_uri": "https://localhost:8080/"
        },
        "id": "l-ZbddJ6iMy6",
        "outputId": "9668ee23-4b82-40d5-bdb1-edca7e61533d"
      },
      "execution_count": null,
      "outputs": [
        {
          "output_type": "execute_result",
          "data": {
            "text/plain": [
              "((150, 4), (120, 4), (30, 4), (120,), (30,))"
            ]
          },
          "metadata": {},
          "execution_count": 11
        }
      ]
    },
    {
      "cell_type": "code",
      "source": [
        "#convert X and to tensors Float tensors (32bit, typical for training, model weights gradient based operations, the same woulda have been torch.tensor(bla bla, dtype=torch.float)) and Long ones (64bit integers, same story but with torch.long)\n",
        "X_train = torch.FloatTensor(X_train)\n",
        "X_test = torch.FloatTensor(X_test)\n",
        "y_train = torch.LongTensor(y_train)\n",
        "y_test = torch.LongTensor(y_test)"
      ],
      "metadata": {
        "id": "hbVCVT75p4pt"
      },
      "execution_count": null,
      "outputs": []
    },
    {
      "cell_type": "code",
      "source": [
        "#How far off we are from the prediction aka we will use cross entropy loss and also an optimizer that as our satuff goes trough the NN it optimizes the weights i guess, we will uise the Adam optimizer (check the math)\n",
        "criterion = nn.CrossEntropyLoss()\n",
        "#1 epoch, stuff goes to fc1 and fc2\n",
        "optimizer = torch.optim.Adam(model.parameters(), lr=0.01) #learning rate, the lower it is the longer is ognna take to learn\n",
        "model"
      ],
      "metadata": {
        "colab": {
          "base_uri": "https://localhost:8080/"
        },
        "id": "iUWAkplsp4te",
        "outputId": "980d2872-a2a0-4326-bd88-b43aad48e3dc"
      },
      "execution_count": null,
      "outputs": [
        {
          "output_type": "execute_result",
          "data": {
            "text/plain": [
              "Model(\n",
              "  (fc1): Linear(in_features=4, out_features=8, bias=True)\n",
              "  (fc2): Linear(in_features=8, out_features=8, bias=True)\n",
              "  (out): Linear(in_features=8, out_features=3, bias=True)\n",
              ")"
            ]
          },
          "metadata": {},
          "execution_count": 32
        }
      ]
    },
    {
      "cell_type": "code",
      "source": [
        "#Its time to train, how many epochs? EPOCH := all training data trough the full NN\n",
        "epochs = 100\n",
        "losses = [] # keep track of the error/loss as we train, expected behaviour it should decrease after epochs\n",
        "for i in range(epochs):\n",
        "  #go forward and get a predicrtion\n",
        "  y_pred = model.forward(X_train)\n",
        "  #Measure the loss/error\n",
        "  loss = criterion(y_pred, y_train)\n",
        "  #keep track of losses\n",
        "  losses.append(loss.detach().numpy()) #convert back to numpy array\n",
        "  if i%10==0 : print(f'Epoch: {i} and loss: {loss}')\n",
        "  #BAck propagation: take the error rate moving forward and you fedd it back thru the network to fine tune the weights\n",
        "  optimizer.zero_grad()\n",
        "  loss.backward()\n",
        "  optimizer.step()"
      ],
      "metadata": {
        "colab": {
          "base_uri": "https://localhost:8080/"
        },
        "id": "NlP25XGo5f6v",
        "outputId": "a2ff6d72-ea08-4087-de0c-556c59ccef87"
      },
      "execution_count": null,
      "outputs": [
        {
          "output_type": "stream",
          "name": "stdout",
          "text": [
            "Epoch: 0 and loss: 1.1318365335464478\n",
            "Epoch: 10 and loss: 0.9658561944961548\n",
            "Epoch: 20 and loss: 0.6789938807487488\n",
            "Epoch: 30 and loss: 0.4004894495010376\n",
            "Epoch: 40 and loss: 0.22509503364562988\n",
            "Epoch: 50 and loss: 0.12207334488630295\n",
            "Epoch: 60 and loss: 0.07481689006090164\n",
            "Epoch: 70 and loss: 0.054512783885002136\n",
            "Epoch: 80 and loss: 0.04437492415308952\n",
            "Epoch: 90 and loss: 0.03837944194674492\n"
          ]
        }
      ]
    },
    {
      "cell_type": "code",
      "source": [
        "plt.plot(losses)"
      ],
      "metadata": {
        "colab": {
          "base_uri": "https://localhost:8080/",
          "height": 445
        },
        "id": "hrHgucdr5f-u",
        "outputId": "7915f2fc-0172-40ea-9c19-7ac13decd8b3"
      },
      "execution_count": null,
      "outputs": [
        {
          "output_type": "execute_result",
          "data": {
            "text/plain": [
              "[<matplotlib.lines.Line2D at 0x781a76756310>]"
            ]
          },
          "metadata": {},
          "execution_count": 34
        },
        {
          "output_type": "display_data",
          "data": {
            "text/plain": [
              "<Figure size 640x480 with 1 Axes>"
            ],
            "image/png": "[encoded data removed]"
          },
          "metadata": {}
        }
      ]
    },
    {
      "cell_type": "code",
      "source": [
        "# Up till now we were working on our training data set, now we need to evaluate the model on test data\n",
        "with torch.no_grad(): #Basically turn off back propagtion\n",
        "  y_eval = model.forward(X_test) #y_eval will be prediction\n",
        "  loss = criterion(y_eval, y_test)\n",
        "loss # should be close to the last loss but it is a lil bit off"
      ],
      "metadata": {
        "colab": {
          "base_uri": "https://localhost:8080/"
        },
        "id": "Y6ncHoDh5gDD",
        "outputId": "5c8f2d1d-c38f-40d5-8789-aadc762d0be4"
      },
      "execution_count": null,
      "outputs": [
        {
          "output_type": "execute_result",
          "data": {
            "text/plain": [
              "tensor(0.1458)"
            ]
          },
          "metadata": {},
          "execution_count": 36
        }
      ]
    },
    {
      "cell_type": "code",
      "source": [
        "correct = 0 # we got 30 of test\n",
        "with torch.no_grad():\n",
        "  for i, data in enumerate(X_test):\n",
        "    y_val = model.forward(data)\n",
        "    #the larger of the three number is gonna be what our NN think it is\n",
        "    print(f'{i+1}:   {str(y_val)} \\t {y_test[i]} \\t {y_val.argmax().item()}') # what type of flw our NN think it is\n",
        "    #correct or not\n",
        "    if y_val.argmax().item() == y_test[i]:\n",
        "      correct += 1\n",
        "    else: print('incorrect')\n",
        "print(f'We got {correct} correct')\n",
        "y_val.argmax().item(), y_val.argmax()"
      ],
      "metadata": {
        "colab": {
          "base_uri": "https://localhost:8080/"
        },
        "id": "7h-dr79i5gHW",
        "outputId": "77db2643-d644-4093-f9e3-6422db2d1ed6"
      },
      "execution_count": null,
      "outputs": [
        {
          "output_type": "stream",
          "name": "stdout",
          "text": [
            "1:   tensor([-7.7212,  1.5826,  4.8685]) \t 2 \t 2\n",
            "2:   tensor([-10.2316,   0.5146,   8.7767]) \t 2 \t 2\n",
            "3:   tensor([-10.7282,   1.1893,   8.2408]) \t 2 \t 2\n",
            "4:   tensor([-4.4743,  3.5419, -1.1241]) \t 1 \t 1\n",
            "5:   tensor([-9.0954,  1.4687,  6.2899]) \t 2 \t 2\n",
            "6:   tensor([-2.2803,  3.7077, -4.1196]) \t 1 \t 1\n",
            "7:   tensor([-7.0740,  2.2070,  3.2966]) \t 2 \t 2\n",
            "8:   tensor([-4.2271,  3.6553, -1.5467]) \t 1 \t 1\n",
            "9:   tensor([-8.0707,  1.8280,  4.7897]) \t 2 \t 2\n",
            "10:   tensor([-10.8583,   0.5051,   9.3761]) \t 2 \t 2\n",
            "11:   tensor([-6.8676,  2.2165,  3.0858]) \t 2 \t 2\n",
            "12:   tensor([  9.4382,   3.2638, -18.8717]) \t 0 \t 0\n",
            "13:   tensor([  8.6037,   2.9307, -17.1502]) \t 0 \t 0\n",
            "14:   tensor([-1.0594,  3.1702, -4.7116]) \t 1 \t 1\n",
            "15:   tensor([  8.0310,   3.2450, -16.7844]) \t 0 \t 0\n",
            "16:   tensor([-6.7105,  2.4191,  2.6637]) \t 2 \t 2\n",
            "17:   tensor([  8.4678,   3.0888, -17.1317]) \t 0 \t 0\n",
            "18:   tensor([-7.6060,  1.7034,  4.5701]) \t 1 \t 2\n",
            "incorrect\n",
            "19:   tensor([  9.8628,   3.2141, -19.4757]) \t 0 \t 0\n",
            "20:   tensor([  7.7276,   2.8980, -15.7355]) \t 0 \t 0\n",
            "21:   tensor([-1.6920,  3.3949, -4.3016]) \t 1 \t 1\n",
            "22:   tensor([-10.0177,   1.0502,   7.7708]) \t 2 \t 2\n",
            "23:   tensor([  8.2674,   3.2234, -17.0561]) \t 0 \t 0\n",
            "24:   tensor([  9.2092,   3.0850, -18.2915]) \t 0 \t 0\n",
            "25:   tensor([-1.3335,  3.4971, -4.9688]) \t 1 \t 1\n",
            "26:   tensor([-2.4308,  3.5983, -3.7124]) \t 1 \t 1\n",
            "27:   tensor([-4.7213,  3.5784, -0.9619]) \t 1 \t 1\n",
            "28:   tensor([-2.2788,  3.5467, -3.8154]) \t 1 \t 1\n",
            "29:   tensor([  9.4498,   3.2186, -18.8342]) \t 0 \t 0\n",
            "30:   tensor([-5.0105,  3.2334, -0.1553]) \t 1 \t 1\n",
            "We got 29 correct\n"
          ]
        },
        {
          "output_type": "execute_result",
          "data": {
            "text/plain": [
              "(1, tensor(1))"
            ]
          },
          "metadata": {},
          "execution_count": 48
        }
      ]
    },
    {
      "cell_type": "code",
      "source": [
        "correct = 0 # we got 30 of test\n",
        "with torch.no_grad():\n",
        "  for i, data in enumerate(X_test):\n",
        "    y_val = model.forward(data)\n",
        "    if y_test[i] == 0:\n",
        "      x = 'Setosa'\n",
        "    elif y_test[i] == 1:\n",
        "      x = 'Versicolor'\n",
        "    else:\n",
        "      x = 'Virginica'\n",
        "    #the larger of the three number is gonna be what our NN think it is\n",
        "    print(f'{i+1}:   {str(y_val)} \\t {x} \\t {y_val.argmax().item()}') # what type of flw our NN think it is\n",
        "    #correct or not\n",
        "    if y_val.argmax().item() == y_test[i]:\n",
        "      correct += 1\n",
        "    else: print('incorrect')\n",
        "print(f'We got {correct} correct')\n",
        "y_val.argmax().item(), y_val.argmax()"
      ],
      "metadata": {
        "colab": {
          "base_uri": "https://localhost:8080/"
        },
        "id": "BGz-efBy5gMH",
        "outputId": "602425aa-51a0-4227-ab64-f64d7c399aea"
      },
      "execution_count": null,
      "outputs": [
        {
          "output_type": "stream",
          "name": "stdout",
          "text": [
            "1:   tensor([-7.7212,  1.5826,  4.8685]) \t Virginica \t 2\n",
            "2:   tensor([-10.2316,   0.5146,   8.7767]) \t Virginica \t 2\n",
            "3:   tensor([-10.7282,   1.1893,   8.2408]) \t Virginica \t 2\n",
            "4:   tensor([-4.4743,  3.5419, -1.1241]) \t Versicolor \t 1\n",
            "5:   tensor([-9.0954,  1.4687,  6.2899]) \t Virginica \t 2\n",
            "6:   tensor([-2.2803,  3.7077, -4.1196]) \t Versicolor \t 1\n",
            "7:   tensor([-7.0740,  2.2070,  3.2966]) \t Virginica \t 2\n",
            "8:   tensor([-4.2271,  3.6553, -1.5467]) \t Versicolor \t 1\n",
            "9:   tensor([-8.0707,  1.8280,  4.7897]) \t Virginica \t 2\n",
            "10:   tensor([-10.8583,   0.5051,   9.3761]) \t Virginica \t 2\n",
            "11:   tensor([-6.8676,  2.2165,  3.0858]) \t Virginica \t 2\n",
            "12:   tensor([  9.4382,   3.2638, -18.8717]) \t Setosa \t 0\n",
            "13:   tensor([  8.6037,   2.9307, -17.1502]) \t Setosa \t 0\n",
            "14:   tensor([-1.0594,  3.1702, -4.7116]) \t Versicolor \t 1\n",
            "15:   tensor([  8.0310,   3.2450, -16.7844]) \t Setosa \t 0\n",
            "16:   tensor([-6.7105,  2.4191,  2.6637]) \t Virginica \t 2\n",
            "17:   tensor([  8.4678,   3.0888, -17.1317]) \t Setosa \t 0\n",
            "18:   tensor([-7.6060,  1.7034,  4.5701]) \t Versicolor \t 2\n",
            "incorrect\n",
            "19:   tensor([  9.8628,   3.2141, -19.4757]) \t Setosa \t 0\n",
            "20:   tensor([  7.7276,   2.8980, -15.7355]) \t Setosa \t 0\n",
            "21:   tensor([-1.6920,  3.3949, -4.3016]) \t Versicolor \t 1\n",
            "22:   tensor([-10.0177,   1.0502,   7.7708]) \t Virginica \t 2\n",
            "23:   tensor([  8.2674,   3.2234, -17.0561]) \t Setosa \t 0\n",
            "24:   tensor([  9.2092,   3.0850, -18.2915]) \t Setosa \t 0\n",
            "25:   tensor([-1.3335,  3.4971, -4.9688]) \t Versicolor \t 1\n",
            "26:   tensor([-2.4308,  3.5983, -3.7124]) \t Versicolor \t 1\n",
            "27:   tensor([-4.7213,  3.5784, -0.9619]) \t Versicolor \t 1\n",
            "28:   tensor([-2.2788,  3.5467, -3.8154]) \t Versicolor \t 1\n",
            "29:   tensor([  9.4498,   3.2186, -18.8342]) \t Setosa \t 0\n",
            "30:   tensor([-5.0105,  3.2334, -0.1553]) \t Versicolor \t 1\n",
            "We got 29 correct\n"
          ]
        },
        {
          "output_type": "execute_result",
          "data": {
            "text/plain": [
              "(1, tensor(1))"
            ]
          },
          "metadata": {},
          "execution_count": 50
        }
      ]
    },
    {
      "cell_type": "code",
      "source": [
        "new_iris = torch.tensor([4.7, 3.2, 1.3, 0.21])\n",
        "with torch.no_grad():\n",
        "  model(new_iris)"
      ],
      "metadata": {
        "id": "EkgMWc_o5gQZ"
      },
      "execution_count": null,
      "outputs": []
    },
    {
      "cell_type": "code",
      "source": [
        "#How to save and load our model\n",
        "torch.save(model.state_dict(),'my_iris_model.pt')"
      ],
      "metadata": {
        "id": "kix3Gi9I5gUW"
      },
      "execution_count": null,
      "outputs": []
    },
    {
      "cell_type": "code",
      "source": [
        "#Load the model\n",
        "new_model = Model()\n",
        "#load all the weights and biased\n",
        "new_model.load_state_dict(torch.load('my_iris_model.pt'))\n",
        "new_model.eval()"
      ],
      "metadata": {
        "colab": {
          "base_uri": "https://localhost:8080/"
        },
        "id": "1DRPa7p7upHA",
        "outputId": "ebe9bda0-97d2-4ab4-a113-478e63d46b70"
      },
      "execution_count": null,
      "outputs": [
        {
          "output_type": "execute_result",
          "data": {
            "text/plain": [
              "Model(\n",
              "  (fc1): Linear(in_features=4, out_features=8, bias=True)\n",
              "  (fc2): Linear(in_features=8, out_features=8, bias=True)\n",
              "  (out): Linear(in_features=8, out_features=3, bias=True)\n",
              ")"
            ]
          },
          "metadata": {},
          "execution_count": 53
        }
      ]
    },
    {
      "cell_type": "code",
      "source": [],
      "metadata": {
        "id": "Tqba0EhNupPE"
      },
      "execution_count": null,
      "outputs": []
    },
    {
      "cell_type": "code",
      "source": [],
      "metadata": {
        "id": "iTiYQ_50upUs"
      },
      "execution_count": null,
      "outputs": []
    },
    {
      "cell_type": "code",
      "source": [],
      "metadata": {
        "id": "Gm__QLOAupqv"
      },
      "execution_count": null,
      "outputs": []
    }
  ]
}