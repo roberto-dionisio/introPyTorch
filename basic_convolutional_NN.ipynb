{
  "nbformat": 4,
  "nbformat_minor": 0,
  "metadata": {
    "colab": {
      "provenance": [],
      "authorship_tag": "ABX9TyNUAXLVRqmc4jAQ2kedniXz",
      "include_colab_link": true
    },
    "kernelspec": {
      "name": "python3",
      "display_name": "Python 3"
    },
    "language_info": {
      "name": "python"
    }
  },
  "cells": [
    {
      "cell_type": "markdown",
      "metadata": {
        "id": "view-in-github",
        "colab_type": "text"
      },
      "source": [
        "<a href=\"https://colab.research.google.com/github/roberto-dionisio/introPyTorch/blob/main/basic_convolutional_NN.ipynb\" target=\"_parent\"><img src=\"https://colab.research.google.com/assets/colab-badge.svg\" alt=\"Open In Colab\"/></a>"
      ]
    },
    {
      "cell_type": "code",
      "execution_count": 1,
      "metadata": {
        "id": "xIu9B46-HrDr"
      },
      "outputs": [],
      "source": [
        "import torch\n",
        "import torch.nn as nn\n",
        "import torch.nn.functional as F\n",
        "from torch.utils.data import DataLoader\n",
        "from torchvision import datasets, transforms\n",
        "from tqdm import tqdm\n",
        "from torchvision.utils import make_grid\n",
        "\n",
        "import numpy as np\n",
        "import pandas as pd\n",
        "from sklearn.metrics import confusion_matrix\n",
        "import matplotlib.pyplot as plt\n",
        "%matplotlib inline"
      ]
    },
    {
      "cell_type": "markdown",
      "source": [],
      "metadata": {
        "id": "ggWoCz7ISsqq"
      }
    },
    {
      "cell_type": "code",
      "source": [],
      "metadata": {
        "id": "65BuO_GtRVB2"
      },
      "execution_count": null,
      "outputs": []
    },
    {
      "cell_type": "code",
      "source": [
        "#We gotta convert MNIST image files into 4 dim tensors (# of images, Height, width, color channel)\n",
        "transform = transforms.ToTensor()\n",
        "#we need to set training and test data.\n",
        "train_data = datasets.MNIST(root='/cnn_data', train=True, download=True, transform=transform)\n",
        "test_data = datasets.MNIST(root='/cnn_data', train=False, download=True, transform=transform)"
      ],
      "metadata": {
        "colab": {
          "base_uri": "https://localhost:8080/"
        },
        "id": "qa76b0SDRVGv",
        "outputId": "ec18cccd-e441-4b84-aba4-246982fd1304"
      },
      "execution_count": 2,
      "outputs": [
        {
          "output_type": "stream",
          "name": "stderr",
          "text": [
            "100%|██████████| 9.91M/9.91M [00:00<00:00, 16.3MB/s]\n",
            "100%|██████████| 28.9k/28.9k [00:00<00:00, 495kB/s]\n",
            "100%|██████████| 1.65M/1.65M [00:00<00:00, 4.54MB/s]\n",
            "100%|██████████| 4.54k/4.54k [00:00<00:00, 6.87MB/s]\n"
          ]
        }
      ]
    },
    {
      "cell_type": "code",
      "source": [
        "train_data, test_data"
      ],
      "metadata": {
        "colab": {
          "base_uri": "https://localhost:8080/"
        },
        "id": "qCP2l0vARVKx",
        "outputId": "7e61b4df-6e8b-4fe4-9cd6-736d864435ba"
      },
      "execution_count": 3,
      "outputs": [
        {
          "output_type": "execute_result",
          "data": {
            "text/plain": [
              "(Dataset MNIST\n",
              "     Number of datapoints: 60000\n",
              "     Root location: /cnn_data\n",
              "     Split: Train\n",
              "     StandardTransform\n",
              " Transform: ToTensor(),\n",
              " Dataset MNIST\n",
              "     Number of datapoints: 10000\n",
              "     Root location: /cnn_data\n",
              "     Split: Test\n",
              "     StandardTransform\n",
              " Transform: ToTensor())"
            ]
          },
          "metadata": {},
          "execution_count": 3
        }
      ]
    },
    {
      "cell_type": "code",
      "source": [
        "#batches are small set of images of whatever data type you r using\n",
        "train_loader = DataLoader(train_data, batch_size=10, shuffle=True)\n",
        "test_loader = DataLoader(test_data, batch_size=10, shuffle=False)"
      ],
      "metadata": {
        "id": "GNQzvLYyRVOl"
      },
      "execution_count": 6,
      "outputs": []
    },
    {
      "cell_type": "code",
      "source": [
        "#Define CNN, 2 in this example, atm it is just an example then we will build the actual model\n",
        "conv1 = nn.Conv2d(in_channels=1, out_channels=6, kernel_size=3, stride=1)\n",
        "conv2 = nn.Conv2d(in_channels=6, out_channels = 16, kernel_size=3, stride=1)\n",
        "\n",
        "#Grab 1 MNIST image/record\n",
        "for i, (X_train, y_traind) in enumerate(train_data):\n",
        "  break\n",
        "\n",
        "X_train.shape, plt.imshow(X_train.reshape(28,28)) #(1,28,28) -> (28,28)"
      ],
      "metadata": {
        "colab": {
          "base_uri": "https://localhost:8080/",
          "height": 445
        },
        "id": "8NpeLa_uRVSh",
        "outputId": "ba9bc32b-41b2-4e55-e5cb-4406eb990f3c"
      },
      "execution_count": 15,
      "outputs": [
        {
          "output_type": "execute_result",
          "data": {
            "text/plain": [
              "(torch.Size([1, 28, 28]), <matplotlib.image.AxesImage at 0x794bcf051cd0>)"
            ]
          },
          "metadata": {},
          "execution_count": 15
        },
        {
          "output_type": "display_data",
          "data": {
            "text/plain": [
              "<Figure size 640x480 with 1 Axes>"
            ],
            "image/png": "[encoded data removed]"
          },
          "metadata": {}
        }
      ]
    },
    {
      "cell_type": "code",
      "source": [
        "x = X_train.view(1,1,28,28)\n",
        "x.shape #to a 4d batch, 1 batch of 1 image of 28x18 image"
      ],
      "metadata": {
        "colab": {
          "base_uri": "https://localhost:8080/"
        },
        "id": "sNCShk-vRVWO",
        "outputId": "b171f28c-0b8b-46c0-ca28-508eb09dbcb9"
      },
      "execution_count": 18,
      "outputs": [
        {
          "output_type": "execute_result",
          "data": {
            "text/plain": [
              "torch.Size([1, 1, 28, 28])"
            ]
          },
          "metadata": {},
          "execution_count": 18
        }
      ]
    },
    {
      "cell_type": "code",
      "source": [
        "#1st convolution\n",
        "x = F.relu(conv1(x)) #Rectified linear unit for our activation function\n",
        "x.shape #1 single image, 6 filters , 26 x 26 is the image cause we put the padding off, outer pixel do not contain any pixel on"
      ],
      "metadata": {
        "colab": {
          "base_uri": "https://localhost:8080/"
        },
        "id": "ftImpOUbRVZe",
        "outputId": "d601f6cd-3651-4f4b-de75-f87414c4e4fc"
      },
      "execution_count": 19,
      "outputs": [
        {
          "output_type": "execute_result",
          "data": {
            "text/plain": [
              "torch.Size([1, 6, 26, 26])"
            ]
          },
          "metadata": {},
          "execution_count": 19
        }
      ]
    },
    {
      "cell_type": "code",
      "source": [
        "# pass through the pooling layer\n",
        "x = F.max_pool2d(x, 2,2) #kernel of 2 and stride of 2\n",
        "x.shape # 13 13 it is ppoling by 2"
      ],
      "metadata": {
        "colab": {
          "base_uri": "https://localhost:8080/"
        },
        "id": "ACDhOz_CRVdO",
        "outputId": "aea40537-cdf2-4445-9b24-5e5dd51251fb"
      },
      "execution_count": 20,
      "outputs": [
        {
          "output_type": "execute_result",
          "data": {
            "text/plain": [
              "torch.Size([1, 6, 13, 13])"
            ]
          },
          "metadata": {},
          "execution_count": 20
        }
      ]
    },
    {
      "cell_type": "code",
      "source": [
        "#2nd conv layer: conv ->pool-conv->pool\n",
        "x = F.relu(conv2(x))\n",
        "x.shape #16 features , from 13 to 11 due to the padding being turned off"
      ],
      "metadata": {
        "colab": {
          "base_uri": "https://localhost:8080/"
        },
        "id": "hXZz74VMRVgv",
        "outputId": "7b39ed68-f447-4010-b244-b30ccd7803ee"
      },
      "execution_count": 21,
      "outputs": [
        {
          "output_type": "execute_result",
          "data": {
            "text/plain": [
              "torch.Size([1, 16, 11, 11])"
            ]
          },
          "metadata": {},
          "execution_count": 21
        }
      ]
    },
    {
      "cell_type": "code",
      "source": [
        "x = F.max_pool2d(x, 2,2)\n",
        "x.shape #5x5: 11/2= 5.5 and it has been round down cause you cannot \"invent\" data lol"
      ],
      "metadata": {
        "colab": {
          "base_uri": "https://localhost:8080/"
        },
        "id": "w_wGlkTGRVke",
        "outputId": "8d1bc9b0-534d-44b6-d546-81dfb003d941"
      },
      "execution_count": 23,
      "outputs": [
        {
          "output_type": "execute_result",
          "data": {
            "text/plain": [
              "torch.Size([1, 16, 2, 2])"
            ]
          },
          "metadata": {},
          "execution_count": 23
        }
      ]
    },
    {
      "cell_type": "code",
      "source": [
        "#MODEL TIME\n",
        "class ConvolutionalNetwork(nn.Module):\n",
        "  def __init__(self):\n",
        "    super().__init__()\n",
        "    self.conv1 = nn.Conv2d(in_channels=1, out_channels=6, kernel_size=3, stride=1)\n",
        "    self.conv2 = nn.Conv2d(in_channels=6, out_channels = 16, kernel_size=3, stride=1)\n",
        "    #Fully connected layers\n",
        "    self.fc1 = nn.Linear(in_features=16*5*5, out_features=120)\n",
        "    self.fc2 = nn.Linear(in_features=120, out_features=64)\n",
        "    self.fc3 = nn.Linear(in_features=64, out_features=10)\n",
        "\n",
        "  def forward(self, X):\n",
        "    X = F.relu(self.conv1(X))\n",
        "    X = F.max_pool2d(X, 2, 2) #2x2 kernel and stride 2\n",
        "    X = F.relu(self.conv2(X))\n",
        "    X = F.max_pool2d(X,2,2)\n",
        "    #flatten it out\n",
        "    X = X.view(-1, 16*5*5) # -1 so we can vary the batch size\n",
        "    X = F.relu(self.fc1(X))\n",
        "    X = F.relu(self.fc2(X))\n",
        "    X = self.fc3(X)\n",
        "    return F.log_softmax(X, dim=1) #output\n",
        "\n",
        "#instanciate\n",
        "torch.manual_seed(41)\n",
        "\n",
        "model = ConvolutionalNetwork()\n",
        "model"
      ],
      "metadata": {
        "colab": {
          "base_uri": "https://localhost:8080/"
        },
        "id": "JKQ1TiNeRVou",
        "outputId": "570ba007-3b4a-4f66-9d35-ad81c5a1106b"
      },
      "execution_count": 30,
      "outputs": [
        {
          "output_type": "execute_result",
          "data": {
            "text/plain": [
              "ConvolutionalNetwork(\n",
              "  (conv1): Conv2d(1, 6, kernel_size=(3, 3), stride=(1, 1))\n",
              "  (conv2): Conv2d(6, 16, kernel_size=(3, 3), stride=(1, 1))\n",
              "  (fc1): Linear(in_features=400, out_features=120, bias=True)\n",
              "  (fc2): Linear(in_features=120, out_features=64, bias=True)\n",
              "  (fc3): Linear(in_features=64, out_features=10, bias=True)\n",
              ")"
            ]
          },
          "metadata": {},
          "execution_count": 30
        }
      ]
    },
    {
      "cell_type": "code",
      "source": [
        "#Loss function optimizer\n",
        "criterion  = nn.CrossEntropyLoss()\n",
        "optimizer = torch.optim.Adam(model.parameters(), lr=0.001)"
      ],
      "metadata": {
        "id": "jHIBbYVUQrE8"
      },
      "execution_count": 31,
      "outputs": []
    },
    {
      "cell_type": "code",
      "source": [
        "import time\n",
        "start_time = time.time()\n",
        "\n",
        "#Variables to track stuff\n",
        "epochs = 5\n",
        "train_losses = []\n",
        "test_losses = []\n",
        "train_correct = []\n",
        "test_correct=[]\n",
        "\n",
        "#For loop of Epochs\n",
        "for i in range(epochs):\n",
        "  trn_corr = 0\n",
        "  tst_corr = 0\n",
        "\n",
        "  #Train\n",
        "  for b, (X_train, y_train) in enumerate(train_loader):\n",
        "    b+=1 #start batches at 1\n",
        "    y_pred = model(X_train) # get predictions from our trining set, Notflattened input m,ust be 2d as we have defined our model\n",
        "    loss = criterion(y_pred, y_train)\n",
        "    predicted = torch.max(y_pred.data, 1)[1] # add up the number of correct predictions. Indexed off the ifirst point(check not sure)\n",
        "    batch_corr = (predicted == y_train).sum() #how many we gort corrected from this specific batch\n",
        "    trn_corr += batch_corr\n",
        "\n",
        "    #UPDATE PARS\n",
        "    optimizer.zero_grad()\n",
        "    loss.backward()\n",
        "    optimizer.step()\n",
        "\n",
        "    #print res\n",
        "    if b%600 == 0:\n",
        "      print(f'Epoch: {i} Batch: {b}  Loss: {loss.item()}')\n",
        "  train_losses.append(loss)\n",
        "  train_correct.append(trn_corr)\n",
        "  #TESTING\n",
        "  with torch.no_grad():\n",
        "    for b,(X_test, y_test) in enumerate(test_loader):\n",
        "      y_val = model(X_test)\n",
        "      predicted = torch.max(y_val.data, 1)[1]\n",
        "      tst_corr += (predicted == y_test).sum()\n",
        "    loss = criterion(y_val, y_test)\n",
        "    test_losses.append(loss)\n",
        "    test_correct.append(tst_corr)\n",
        "\n",
        "cur_time = time.time()\n",
        "\n",
        "elapsed_time = cur_time - start_time\n",
        "print(f'Training took {elapsed_time/60} minutes')"
      ],
      "metadata": {
        "colab": {
          "base_uri": "https://localhost:8080/"
        },
        "id": "2PpuuTa0QrRh",
        "outputId": "cbf42a09-a48f-4307-9a80-c0c1a5ef620a"
      },
      "execution_count": 32,
      "outputs": [
        {
          "output_type": "stream",
          "name": "stdout",
          "text": [
            "Epoch: 0 Batch: 600  Loss: 0.09838603436946869\n",
            "Epoch: 0 Batch: 1200  Loss: 0.1974300891160965\n",
            "Epoch: 0 Batch: 1800  Loss: 0.02280254103243351\n",
            "Epoch: 0 Batch: 2400  Loss: 0.39020782709121704\n",
            "Epoch: 0 Batch: 3000  Loss: 0.02321077324450016\n",
            "Epoch: 0 Batch: 3600  Loss: 0.01658933237195015\n",
            "Epoch: 0 Batch: 4200  Loss: 0.00989486463367939\n",
            "Epoch: 0 Batch: 4800  Loss: 0.3259510397911072\n",
            "Epoch: 0 Batch: 5400  Loss: 0.0012063378235325217\n",
            "Epoch: 0 Batch: 6000  Loss: 0.016793761402368546\n",
            "Epoch: 1 Batch: 600  Loss: 0.04296751320362091\n",
            "Epoch: 1 Batch: 1200  Loss: 0.002424773061648011\n",
            "Epoch: 1 Batch: 1800  Loss: 0.0535711832344532\n",
            "Epoch: 1 Batch: 2400  Loss: 0.011568969115614891\n",
            "Epoch: 1 Batch: 3000  Loss: 0.016909927129745483\n",
            "Epoch: 1 Batch: 3600  Loss: 0.04163137823343277\n",
            "Epoch: 1 Batch: 4200  Loss: 0.006586598698049784\n",
            "Epoch: 1 Batch: 4800  Loss: 0.0006105502834543586\n",
            "Epoch: 1 Batch: 5400  Loss: 0.005740298889577389\n",
            "Epoch: 1 Batch: 6000  Loss: 0.09833849966526031\n",
            "Epoch: 2 Batch: 600  Loss: 0.043597303330898285\n",
            "Epoch: 2 Batch: 1200  Loss: 0.0003268208238296211\n",
            "Epoch: 2 Batch: 1800  Loss: 0.00979546271264553\n",
            "Epoch: 2 Batch: 2400  Loss: 0.04199361801147461\n",
            "Epoch: 2 Batch: 3000  Loss: 0.00010705106251407415\n",
            "Epoch: 2 Batch: 3600  Loss: 0.010082708671689034\n",
            "Epoch: 2 Batch: 4200  Loss: 0.005752792581915855\n",
            "Epoch: 2 Batch: 4800  Loss: 0.0036741881631314754\n",
            "Epoch: 2 Batch: 5400  Loss: 0.0025267587043344975\n",
            "Epoch: 2 Batch: 6000  Loss: 0.04004503786563873\n",
            "Epoch: 3 Batch: 600  Loss: 0.001300918054766953\n",
            "Epoch: 3 Batch: 1200  Loss: 0.06110456585884094\n",
            "Epoch: 3 Batch: 1800  Loss: 0.004680563695728779\n",
            "Epoch: 3 Batch: 2400  Loss: 0.030584227293729782\n",
            "Epoch: 3 Batch: 3000  Loss: 5.079004404251464e-05\n",
            "Epoch: 3 Batch: 3600  Loss: 0.00018812555936165154\n",
            "Epoch: 3 Batch: 4200  Loss: 0.00011813917808467522\n",
            "Epoch: 3 Batch: 4800  Loss: 0.002201442141085863\n",
            "Epoch: 3 Batch: 5400  Loss: 8.761215576669201e-05\n",
            "Epoch: 3 Batch: 6000  Loss: 0.0024968120269477367\n",
            "Epoch: 4 Batch: 600  Loss: 0.00437792856246233\n",
            "Epoch: 4 Batch: 1200  Loss: 2.896771093219286e-06\n",
            "Epoch: 4 Batch: 1800  Loss: 0.012499287724494934\n",
            "Epoch: 4 Batch: 2400  Loss: 0.0009016247349791229\n",
            "Epoch: 4 Batch: 3000  Loss: 0.0017251040553674102\n",
            "Epoch: 4 Batch: 3600  Loss: 0.010602387599647045\n",
            "Epoch: 4 Batch: 4200  Loss: 0.008058731444180012\n",
            "Epoch: 4 Batch: 4800  Loss: 5.7602377637522295e-05\n",
            "Epoch: 4 Batch: 5400  Loss: 0.0005228802328929305\n",
            "Epoch: 4 Batch: 6000  Loss: 0.03224162012338638\n",
            "Training took 3.7918516635894775 minutes\n"
          ]
        }
      ]
    },
    {
      "cell_type": "code",
      "source": [
        "train_lossess = [tl.item() for tl in train_losses]\n",
        "plt.plot(train_lossess, label='Training Loss')\n",
        "plt.plot(test_losses, label='Testing Loss')\n",
        "plt.title('Loss at the end of each epoch')\n",
        "plt.legend()"
      ],
      "metadata": {
        "colab": {
          "base_uri": "https://localhost:8080/",
          "height": 468
        },
        "id": "QEQf67_kQrWK",
        "outputId": "7503987a-fcea-4eb4-e9a4-e043c75f4fba"
      },
      "execution_count": 44,
      "outputs": [
        {
          "output_type": "execute_result",
          "data": {
            "text/plain": [
              "<matplotlib.legend.Legend at 0x794bceded4d0>"
            ]
          },
          "metadata": {},
          "execution_count": 44
        },
        {
          "output_type": "display_data",
          "data": {
            "text/plain": [
              "<Figure size 640x480 with 1 Axes>"
            ],
            "image/png": "[encoded data removed]"
          },
          "metadata": {}
        }
      ]
    },
    {
      "cell_type": "code",
      "source": [
        "plt.plot([t/600 for t in train_correct], label='Training Accuracy')\n",
        "plt.plot([t/100 for t in test_correct], label='Testing Accuracy')\n",
        "plt.title('Accuracy at the end of each epoch')\n",
        "plt.legend()"
      ],
      "metadata": {
        "colab": {
          "base_uri": "https://localhost:8080/",
          "height": 468
        },
        "id": "_YdGn6ASQrZj",
        "outputId": "1f7eb8b9-fd8e-4a94-9c24-a6e504153f49"
      },
      "execution_count": 51,
      "outputs": [
        {
          "output_type": "execute_result",
          "data": {
            "text/plain": [
              "<matplotlib.legend.Legend at 0x794bcea26050>"
            ]
          },
          "metadata": {},
          "execution_count": 51
        },
        {
          "output_type": "display_data",
          "data": {
            "text/plain": [
              "<Figure size 640x480 with 1 Axes>"
            ],
            "image/png": "[encoded data removed]"
          },
          "metadata": {}
        }
      ]
    },
    {
      "cell_type": "code",
      "source": [
        "test_load_everything = DataLoader(test_data, batch_size=10000, shuffle=False)\n",
        "with torch.no_grad():\n",
        "  correct = 0\n",
        "  for X_test, y_test in test_load_everything:\n",
        "    y_val = model(X_test)\n",
        "    predicted = torch.max(y_val.data, 1)[1]\n",
        "    correct += (predicted == y_test).sum()\n",
        "  print(f'Test Accuracy: {correct/10000}')\n",
        "correct.item()"
      ],
      "metadata": {
        "colab": {
          "base_uri": "https://localhost:8080/"
        },
        "id": "WVqwGmeaQrdA",
        "outputId": "ce3f75b4-9761-4e02-f2d2-cab1b6acd617"
      },
      "execution_count": 55,
      "outputs": [
        {
          "output_type": "stream",
          "name": "stdout",
          "text": [
            "Test Accuracy: 0.9869999885559082\n"
          ]
        },
        {
          "output_type": "execute_result",
          "data": {
            "text/plain": [
              "9870"
            ]
          },
          "metadata": {},
          "execution_count": 55
        }
      ]
    },
    {
      "cell_type": "code",
      "source": [
        "#Grab an image\n",
        "test_data[400]"
      ],
      "metadata": {
        "colab": {
          "base_uri": "https://localhost:8080/"
        },
        "id": "0UyOccNVjksH",
        "outputId": "13467306-102d-45b9-ddd1-ac4c1053e0bd"
      },
      "execution_count": 60,
      "outputs": [
        {
          "output_type": "execute_result",
          "data": {
            "text/plain": [
              "(tensor([[[0.0000, 0.0000, 0.0000, 0.0000, 0.0000, 0.0000, 0.0000, 0.0000,\n",
              "           0.0000, 0.0000, 0.0000, 0.0000, 0.0000, 0.0000, 0.0000, 0.0000,\n",
              "           0.0000, 0.0000, 0.0000, 0.0000, 0.0000, 0.0000, 0.0000, 0.0000,\n",
              "           0.0000, 0.0000, 0.0000, 0.0000],\n",
              "          [0.0000, 0.0000, 0.0000, 0.0000, 0.0000, 0.0000, 0.0000, 0.0000,\n",
              "           0.0000, 0.0000, 0.0000, 0.0000, 0.0000, 0.0000, 0.0000, 0.0000,\n",
              "           0.0000, 0.0000, 0.0000, 0.0000, 0.0000, 0.0000, 0.0000, 0.0000,\n",
              "           0.0000, 0.0000, 0.0000, 0.0000],\n",
              "          [0.0000, 0.0000, 0.0000, 0.0000, 0.0000, 0.0000, 0.0000, 0.0000,\n",
              "           0.0000, 0.0000, 0.0000, 0.0000, 0.0000, 0.0000, 0.0000, 0.0000,\n",
              "           0.0000, 0.0000, 0.0000, 0.0000, 0.0000, 0.0000, 0.0000, 0.0000,\n",
              "           0.0000, 0.0000, 0.0000, 0.0000],\n",
              "          [0.0000, 0.0000, 0.0000, 0.0000, 0.0000, 0.0000, 0.0000, 0.0000,\n",
              "           0.0000, 0.0000, 0.0000, 0.0000, 0.0000, 0.0000, 0.0000, 0.0000,\n",
              "           0.0000, 0.0000, 0.0000, 0.0000, 0.0000, 0.0000, 0.0000, 0.0000,\n",
              "           0.0000, 0.0000, 0.0000, 0.0000],\n",
              "          [0.0000, 0.0000, 0.0000, 0.0000, 0.0000, 0.0000, 0.0000, 0.0000,\n",
              "           0.0000, 0.0000, 0.0000, 0.1176, 0.5373, 0.3020, 0.4863, 0.7922,\n",
              "           1.0000, 1.0000, 0.5451, 0.0510, 0.0000, 0.0000, 0.0000, 0.0000,\n",
              "           0.0000, 0.0000, 0.0000, 0.0000],\n",
              "          [0.0000, 0.0000, 0.0000, 0.0000, 0.0000, 0.0000, 0.0000, 0.0000,\n",
              "           0.0000, 0.0000, 0.0000, 0.7647, 0.9922, 0.9922, 0.9922, 0.9922,\n",
              "           0.9922, 0.9922, 0.9922, 0.8078, 0.2510, 0.0000, 0.0000, 0.0000,\n",
              "           0.0000, 0.0000, 0.0000, 0.0000],\n",
              "          [0.0000, 0.0000, 0.0000, 0.0000, 0.0000, 0.0000, 0.0000, 0.0000,\n",
              "           0.0000, 0.0392, 0.7725, 0.8667, 0.9922, 0.9882, 0.9725, 0.3569,\n",
              "           0.4078, 0.7098, 0.9765, 0.9922, 0.7725, 0.0196, 0.0000, 0.0000,\n",
              "           0.0000, 0.0000, 0.0000, 0.0000],\n",
              "          [0.0000, 0.0000, 0.0000, 0.0000, 0.0000, 0.0000, 0.0000, 0.0000,\n",
              "           0.0000, 0.0000, 0.0784, 0.8549, 0.9843, 0.4706, 0.0000, 0.0000,\n",
              "           0.0000, 0.0000, 0.1098, 0.9922, 0.9922, 0.4431, 0.0000, 0.0000,\n",
              "           0.0000, 0.0000, 0.0000, 0.0000],\n",
              "          [0.0000, 0.0000, 0.0000, 0.0000, 0.0000, 0.0000, 0.0000, 0.0000,\n",
              "           0.0000, 0.0000, 0.2000, 0.8392, 0.7922, 0.0000, 0.0000, 0.0000,\n",
              "           0.0000, 0.0000, 0.0275, 0.7569, 0.9922, 0.8549, 0.2196, 0.0000,\n",
              "           0.0000, 0.0000, 0.0000, 0.0000],\n",
              "          [0.0000, 0.0000, 0.0000, 0.0000, 0.0000, 0.0000, 0.0000, 0.0000,\n",
              "           0.0000, 0.0000, 0.4196, 0.9922, 0.8863, 0.0000, 0.0000, 0.0000,\n",
              "           0.0000, 0.0000, 0.0078, 0.6941, 0.9922, 0.9922, 0.2941, 0.0000,\n",
              "           0.0000, 0.0000, 0.0000, 0.0000],\n",
              "          [0.0000, 0.0000, 0.0000, 0.0000, 0.0000, 0.0000, 0.0000, 0.0000,\n",
              "           0.0000, 0.0000, 0.0745, 0.8510, 0.9294, 0.0000, 0.0000, 0.0000,\n",
              "           0.0000, 0.0000, 0.1098, 0.9922, 0.9922, 0.9922, 0.2941, 0.0000,\n",
              "           0.0000, 0.0000, 0.0000, 0.0000],\n",
              "          [0.0000, 0.0000, 0.0000, 0.0000, 0.0000, 0.0000, 0.0000, 0.0000,\n",
              "           0.0000, 0.0000, 0.0000, 0.3255, 0.9020, 0.0000, 0.0000, 0.0000,\n",
              "           0.0000, 0.0000, 0.4353, 0.9922, 0.9922, 0.8941, 0.0706, 0.0000,\n",
              "           0.0000, 0.0000, 0.0000, 0.0000],\n",
              "          [0.0000, 0.0000, 0.0000, 0.0000, 0.0000, 0.0000, 0.0000, 0.0000,\n",
              "           0.0000, 0.0000, 0.0000, 0.0000, 0.0706, 0.0000, 0.0000, 0.0000,\n",
              "           0.0000, 0.0000, 0.7373, 0.9922, 0.9922, 0.8392, 0.0000, 0.0000,\n",
              "           0.0000, 0.0000, 0.0000, 0.0000],\n",
              "          [0.0000, 0.0000, 0.0000, 0.0000, 0.0000, 0.0000, 0.0000, 0.0000,\n",
              "           0.0000, 0.0000, 0.0000, 0.0000, 0.0000, 0.0000, 0.0000, 0.0000,\n",
              "           0.0000, 0.0000, 0.9569, 0.9922, 0.9922, 0.3529, 0.0000, 0.0000,\n",
              "           0.0000, 0.0000, 0.0000, 0.0000],\n",
              "          [0.0000, 0.0000, 0.0000, 0.0000, 0.0000, 0.0000, 0.0000, 0.0000,\n",
              "           0.0000, 0.0000, 0.0000, 0.0000, 0.0000, 0.0000, 0.0000, 0.0000,\n",
              "           0.0000, 0.3059, 0.9843, 0.9922, 0.8471, 0.0118, 0.0000, 0.0000,\n",
              "           0.0000, 0.0000, 0.0000, 0.0000],\n",
              "          [0.0000, 0.0000, 0.0000, 0.0000, 0.0000, 0.0000, 0.0000, 0.0000,\n",
              "           0.0000, 0.0000, 0.0000, 0.0000, 0.0000, 0.0000, 0.0000, 0.0000,\n",
              "           0.0235, 0.6157, 0.9922, 0.9725, 0.3608, 0.0000, 0.0000, 0.0000,\n",
              "           0.0000, 0.0000, 0.0000, 0.0000],\n",
              "          [0.0000, 0.0000, 0.0000, 0.0000, 0.0000, 0.0000, 0.2157, 0.6588,\n",
              "           0.6588, 0.6588, 0.6588, 0.5137, 0.1216, 0.0000, 0.0000, 0.1569,\n",
              "           0.7373, 0.9922, 0.9922, 0.6392, 0.0000, 0.0000, 0.0000, 0.0000,\n",
              "           0.0000, 0.0000, 0.0000, 0.0000],\n",
              "          [0.0000, 0.0000, 0.0000, 0.0000, 0.0000, 0.4078, 0.9686, 0.9922,\n",
              "           0.9922, 0.9922, 0.9922, 0.9922, 0.9020, 0.8078, 0.4745, 0.6941,\n",
              "           0.9922, 0.9922, 0.9059, 0.0627, 0.0000, 0.0000, 0.0000, 0.0000,\n",
              "           0.0000, 0.0000, 0.0000, 0.0000],\n",
              "          [0.0000, 0.0000, 0.0000, 0.0000, 0.0000, 0.7216, 0.9922, 0.9922,\n",
              "           0.9922, 0.9922, 0.9922, 0.9490, 0.9922, 0.9922, 0.9922, 0.9922,\n",
              "           0.9922, 0.9922, 0.0745, 0.0000, 0.0000, 0.0000, 0.0000, 0.0000,\n",
              "           0.0000, 0.0000, 0.0000, 0.0000],\n",
              "          [0.0000, 0.0000, 0.0000, 0.0000, 0.0000, 0.7216, 0.9922, 0.9490,\n",
              "           0.6039, 0.3176, 0.3176, 0.1804, 0.4706, 0.9922, 0.9922, 0.9922,\n",
              "           0.9922, 0.9922, 0.0392, 0.0000, 0.0000, 0.0000, 0.0000, 0.0000,\n",
              "           0.0000, 0.0000, 0.0000, 0.0000],\n",
              "          [0.0000, 0.0000, 0.0000, 0.0000, 0.0000, 0.7216, 0.9922, 0.8235,\n",
              "           0.0000, 0.0196, 0.6667, 0.8275, 0.9098, 0.9922, 0.9922, 0.9608,\n",
              "           0.4118, 0.5882, 0.0235, 0.0000, 0.0000, 0.0000, 0.0000, 0.0000,\n",
              "           0.0000, 0.0000, 0.0000, 0.0000],\n",
              "          [0.0000, 0.0000, 0.0000, 0.0000, 0.0000, 0.7216, 0.9922, 0.9176,\n",
              "           0.4196, 0.8902, 0.9922, 0.9922, 0.9922, 0.9922, 0.8941, 0.2510,\n",
              "           0.0000, 0.0000, 0.0000, 0.0000, 0.0000, 0.0000, 0.0000, 0.0000,\n",
              "           0.0000, 0.0000, 0.0000, 0.0000],\n",
              "          [0.0000, 0.0000, 0.0000, 0.0000, 0.0000, 0.4235, 0.9922, 0.9922,\n",
              "           0.9922, 0.9922, 0.9922, 0.9922, 0.9490, 0.2941, 0.0627, 0.0000,\n",
              "           0.0000, 0.0000, 0.0000, 0.0000, 0.0000, 0.0000, 0.0000, 0.0000,\n",
              "           0.0000, 0.0000, 0.0000, 0.0000],\n",
              "          [0.0000, 0.0000, 0.0000, 0.0000, 0.0000, 0.0471, 0.5137, 0.6392,\n",
              "           0.9922, 0.9922, 0.7294, 0.4275, 0.1373, 0.0000, 0.0000, 0.0000,\n",
              "           0.0000, 0.0000, 0.0000, 0.0000, 0.0000, 0.0000, 0.0000, 0.0000,\n",
              "           0.0000, 0.0000, 0.0000, 0.0000],\n",
              "          [0.0000, 0.0000, 0.0000, 0.0000, 0.0000, 0.0000, 0.0000, 0.0000,\n",
              "           0.0000, 0.0000, 0.0000, 0.0000, 0.0000, 0.0000, 0.0000, 0.0000,\n",
              "           0.0000, 0.0000, 0.0000, 0.0000, 0.0000, 0.0000, 0.0000, 0.0000,\n",
              "           0.0000, 0.0000, 0.0000, 0.0000],\n",
              "          [0.0000, 0.0000, 0.0000, 0.0000, 0.0000, 0.0000, 0.0000, 0.0000,\n",
              "           0.0000, 0.0000, 0.0000, 0.0000, 0.0000, 0.0000, 0.0000, 0.0000,\n",
              "           0.0000, 0.0000, 0.0000, 0.0000, 0.0000, 0.0000, 0.0000, 0.0000,\n",
              "           0.0000, 0.0000, 0.0000, 0.0000],\n",
              "          [0.0000, 0.0000, 0.0000, 0.0000, 0.0000, 0.0000, 0.0000, 0.0000,\n",
              "           0.0000, 0.0000, 0.0000, 0.0000, 0.0000, 0.0000, 0.0000, 0.0000,\n",
              "           0.0000, 0.0000, 0.0000, 0.0000, 0.0000, 0.0000, 0.0000, 0.0000,\n",
              "           0.0000, 0.0000, 0.0000, 0.0000],\n",
              "          [0.0000, 0.0000, 0.0000, 0.0000, 0.0000, 0.0000, 0.0000, 0.0000,\n",
              "           0.0000, 0.0000, 0.0000, 0.0000, 0.0000, 0.0000, 0.0000, 0.0000,\n",
              "           0.0000, 0.0000, 0.0000, 0.0000, 0.0000, 0.0000, 0.0000, 0.0000,\n",
              "           0.0000, 0.0000, 0.0000, 0.0000]]]),\n",
              " 2)"
            ]
          },
          "metadata": {},
          "execution_count": 60
        }
      ]
    },
    {
      "cell_type": "code",
      "source": [
        "plt.imshow(test_data[400][0].reshape(28,28))"
      ],
      "metadata": {
        "colab": {
          "base_uri": "https://localhost:8080/",
          "height": 445
        },
        "id": "CD4ClwmhkNcb",
        "outputId": "58e356dd-1a2b-436f-e5a5-631f6cd219cf"
      },
      "execution_count": 61,
      "outputs": [
        {
          "output_type": "execute_result",
          "data": {
            "text/plain": [
              "<matplotlib.image.AxesImage at 0x794bcff11cd0>"
            ]
          },
          "metadata": {},
          "execution_count": 61
        },
        {
          "output_type": "display_data",
          "data": {
            "text/plain": [
              "<Figure size 640x480 with 1 Axes>"
            ],
            "image/png": "[encoded data removed]"
          },
          "metadata": {}
        }
      ]
    },
    {
      "cell_type": "code",
      "source": [
        "#pass the image\n",
        "model.eval()\n",
        "\n",
        "with torch.no_grad():\n",
        "  out = model(test_data[400][0].view(1,1,28,28)) #batch of 1, 1 color, 28x28 image"
      ],
      "metadata": {
        "id": "bW9Y7_Eqi1ss"
      },
      "execution_count": 62,
      "outputs": []
    },
    {
      "cell_type": "code",
      "source": [
        "out"
      ],
      "metadata": {
        "colab": {
          "base_uri": "https://localhost:8080/"
        },
        "id": "XPWyUg2mi14f",
        "outputId": "39d8f762-59ef-4d80-f912-587d0e7e7327"
      },
      "execution_count": 63,
      "outputs": [
        {
          "output_type": "execute_result",
          "data": {
            "text/plain": [
              "tensor([[-5.7641e+00, -1.1627e+01, -1.2338e-02, -6.4235e+00, -1.4143e+01,\n",
              "         -9.4247e+00, -1.6273e+01, -8.6561e+00, -5.1296e+00, -6.6321e+00]])"
            ]
          },
          "metadata": {},
          "execution_count": 63
        }
      ]
    },
    {
      "cell_type": "code",
      "source": [
        "torch.max(out), out.argmax()"
      ],
      "metadata": {
        "colab": {
          "base_uri": "https://localhost:8080/"
        },
        "id": "AVEPfP3Bi188",
        "outputId": "09c8162a-9756-46a4-b551-afdad649ac65"
      },
      "execution_count": 66,
      "outputs": [
        {
          "output_type": "execute_result",
          "data": {
            "text/plain": [
              "(tensor(-0.0123), tensor(2))"
            ]
          },
          "metadata": {},
          "execution_count": 66
        }
      ]
    },
    {
      "cell_type": "code",
      "source": [],
      "metadata": {
        "id": "xDOyVg1Ci2Ag"
      },
      "execution_count": null,
      "outputs": []
    },
    {
      "cell_type": "code",
      "source": [],
      "metadata": {
        "id": "Nt2kwVcgi2D0"
      },
      "execution_count": null,
      "outputs": []
    }
  ]
}