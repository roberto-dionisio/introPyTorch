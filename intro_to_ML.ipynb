{
  "nbformat": 4,
  "nbformat_minor": 0,
  "metadata": {
    "colab": {
      "provenance": [],
      "toc_visible": true,
      "gpuType": "T4",
      "authorship_tag": "ABX9TyMDXYM6sxsApA6LxvklzA6t",
      "include_colab_link": true
    },
    "kernelspec": {
      "name": "python3",
      "display_name": "Python 3"
    },
    "language_info": {
      "name": "python"
    },
    "accelerator": "GPU"
  },
  "cells": [
    {
      "cell_type": "markdown",
      "metadata": {
        "id": "view-in-github",
        "colab_type": "text"
      },
      "source": [
        "<a href=\"https://colab.research.google.com/github/roberto-dionisio/introPyTorch/blob/main/intro_to_ML.ipynb\" target=\"_parent\"><img src=\"https://colab.research.google.com/assets/colab-badge.svg\" alt=\"Open In Colab\"/></a>"
      ]
    },
    {
      "cell_type": "markdown",
      "source": [
        "# Intro to Machine Learning\n",
        "Goal: learn the basics of Pytorch in order to get familiar with ML concepts, and apply the latter to LatticeGaugeTheories"
      ],
      "metadata": {
        "id": "2nMszocEZCP_"
      }
    },
    {
      "cell_type": "code",
      "source": [
        "# prompt: ---> 2 nvidia-smi\n",
        "# NameError: name 'nvidia' is not defin\n",
        "import cuda\n",
        "import torch\n",
        "import numpy as np\n",
        "import matplotlib.pyplot as plt\n",
        "%matplotlib inline"
      ],
      "metadata": {
        "id": "vQvA8rEpZcGe"
      },
      "execution_count": null,
      "outputs": []
    },
    {
      "cell_type": "markdown",
      "source": [
        "## Tensors\n",
        "- aka multidimensional array, very simil;ar to Numpy arrays but they work better on gpus\n",
        "- defaul data type of float32\n",
        "- obv more suitable for ML/DL stuff"
      ],
      "metadata": {
        "id": "srGlcKnWigxl"
      }
    },
    {
      "cell_type": "code",
      "source": [
        "print(\"CUDA available:\", torch.cuda.is_available())\n",
        "if torch.cuda.is_available():\n",
        "    print(\"GPU name:\", torch.cuda.get_device_name(0))"
      ],
      "metadata": {
        "colab": {
          "base_uri": "https://localhost:8080/"
        },
        "id": "lM_FLehclylh",
        "outputId": "03d108b0-3471-4285-981b-24218a854d23"
      },
      "execution_count": 21,
      "outputs": [
        {
          "output_type": "stream",
          "name": "stdout",
          "text": [
            "CUDA available: True\n",
            "GPU name: Tesla T4\n"
          ]
        }
      ]
    },
    {
      "cell_type": "code",
      "source": [
        "nparr = np.random.rand(3,2)\n",
        "torch_arr = torch.tensor(nparr)\n",
        "#nparr, nparr.dtype #numpy defaul dtype is float64, converting a np array to a torch tensor inherit np dtype\n",
        "torch_arr, torch_arr.dtype"
      ],
      "metadata": {
        "colab": {
          "base_uri": "https://localhost:8080/"
        },
        "id": "tXXSJBf2jCax",
        "outputId": "3b44bbb8-77e6-42e0-8ad1-72cdcf6fd78d"
      },
      "execution_count": 14,
      "outputs": [
        {
          "output_type": "execute_result",
          "data": {
            "text/plain": [
              "(tensor([[0.6742, 0.4470],\n",
              "         [0.2318, 0.1261],\n",
              "         [0.6300, 0.0472]], dtype=torch.float64),\n",
              " torch.float64)"
            ]
          },
          "metadata": {},
          "execution_count": 14
        }
      ]
    },
    {
      "cell_type": "code",
      "source": [
        "torch_arr2 = torch.rand(3,2)\n",
        "torch_arr2, torch_arr2.dtype #torch defaul dtype is float32"
      ],
      "metadata": {
        "colab": {
          "base_uri": "https://localhost:8080/"
        },
        "id": "I9W0gxvIiMOQ",
        "outputId": "10229a44-b3ab-460c-d17a-868b6509bcb9"
      },
      "execution_count": 18,
      "outputs": [
        {
          "output_type": "execute_result",
          "data": {
            "text/plain": [
              "(tensor([[0.1091, 0.9588],\n",
              "         [0.1033, 0.4618],\n",
              "         [0.7838, 0.1156]]),\n",
              " torch.float32)"
            ]
          },
          "metadata": {},
          "execution_count": 18
        }
      ]
    },
    {
      "cell_type": "code",
      "source": [
        "torch_arr2 = torch.rand(3,2, dtype=torch.float64) #forced to be float64\n",
        "torch_arr2, torch_arr2.dtype"
      ],
      "metadata": {
        "colab": {
          "base_uri": "https://localhost:8080/"
        },
        "id": "a0EHd4M3iMcV",
        "outputId": "e554b01f-d50a-486d-fd33-fc8efa865c32"
      },
      "execution_count": 19,
      "outputs": [
        {
          "output_type": "execute_result",
          "data": {
            "text/plain": [
              "(tensor([[0.1596, 0.9848],\n",
              "         [0.1739, 0.0775],\n",
              "         [0.3940, 0.0749]], dtype=torch.float64),\n",
              " torch.float64)"
            ]
          },
          "metadata": {},
          "execution_count": 19
        }
      ]
    },
    {
      "cell_type": "code",
      "source": [
        "my_torch = torch.arange(1,10)\n",
        "my_torch = my_torch.reshape(3,3) #check differences between torch.reshape() and torch.view()\n",
        "my_torch, my_torch.shape"
      ],
      "metadata": {
        "colab": {
          "base_uri": "https://localhost:8080/"
        },
        "id": "toBngPSDiM6b",
        "outputId": "53da56d4-57ff-42fd-8c7f-49c38d4e0dd7"
      },
      "execution_count": 27,
      "outputs": [
        {
          "output_type": "execute_result",
          "data": {
            "text/plain": [
              "(tensor([[1, 2, 3],\n",
              "         [4, 5, 6],\n",
              "         [7, 8, 9]]),\n",
              " torch.Size([3, 3]))"
            ]
          },
          "metadata": {},
          "execution_count": 27
        }
      ]
    },
    {
      "cell_type": "code",
      "source": [],
      "metadata": {
        "id": "9lR3bYQrmao3"
      },
      "execution_count": null,
      "outputs": []
    }
  ]
}