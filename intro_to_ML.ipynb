{
  "nbformat": 4,
  "nbformat_minor": 0,
  "metadata": {
    "colab": {
      "provenance": [],
      "toc_visible": true,
      "gpuType": "T4",
      "authorship_tag": "ABX9TyO4IayZQA6mUhPG3+3bgaZE",
      "include_colab_link": true
    },
    "kernelspec": {
      "name": "python3",
      "display_name": "Python 3"
    },
    "language_info": {
      "name": "python"
    },
    "accelerator": "GPU"
  },
  "cells": [
    {
      "cell_type": "markdown",
      "metadata": {
        "id": "view-in-github",
        "colab_type": "text"
      },
      "source": [
        "<a href=\"https://colab.research.google.com/github/roberto-dionisio/introPyTorch/blob/main/intro_to_ML.ipynb\" target=\"_parent\"><img src=\"https://colab.research.google.com/assets/colab-badge.svg\" alt=\"Open In Colab\"/></a>"
      ]
    },
    {
      "cell_type": "code",
      "execution_count": null,
      "metadata": {
        "id": "kksshC70ZAPd"
      },
      "outputs": [],
      "source": []
    },
    {
      "cell_type": "markdown",
      "source": [
        "# Intro to Machine Learning\n",
        "Goal: learn the basics of Pytorch in order to get familiar with ML concepts, and apply the latter to LatticeGaugeTheories"
      ],
      "metadata": {
        "id": "2nMszocEZCP_"
      }
    },
    {
      "cell_type": "code",
      "source": [
        "# prompt: ---> 2 nvidia-smi\n",
        "# NameError: name 'nvidia' is not defin\n",
        "import cuda\n",
        "import torch\n",
        "import numpy as np\n",
        "import matplotlib.pyplot as plt\n",
        "%matplotlib inline"
      ],
      "metadata": {
        "id": "vQvA8rEpZcGe"
      },
      "execution_count": null,
      "outputs": []
    }
  ]
}